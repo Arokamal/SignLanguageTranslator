{
 "cells": [
  {
   "cell_type": "code",
   "execution_count": 1,
   "id": "35d0e669",
   "metadata": {},
   "outputs": [],
   "source": [
    "import numpy as np\n",
    "import cv2"
   ]
  },
  {
   "cell_type": "code",
   "execution_count": 2,
   "id": "a39df105",
   "metadata": {},
   "outputs": [],
   "source": [
    "minValue = 70\n",
    "def func(test):    \n",
    "    frame = cv2.imread('localhost:8888/tree/Desktop/Sign-Language-to-Text-master/Sign-Language-training%26app/Datacollection/data/train')\n",
    "    \n",
    "    gray = cv2.cvtColor(frame, cv2.COLOR_BGR2GRAY)\n",
    "    blur = cv2.GaussianBlur(gray,(5,5),2)\n",
    "\n",
    "    th3 = cv2.adaptiveThreshold(blur,255,cv2.ADAPTIVE_THRESH_GAUSSIAN_C,cv2.THRESH_BINARY_INV,11,2)\n",
    "    ret, res = cv2.threshold(th3, minValue, 255, cv2.THRESH_BINARY_INV+cv2.THRESH_OTSU)\n",
    "    return res\n"
   ]
  }
 ],
 "metadata": {
  "kernelspec": {
   "display_name": "Python 3.8.13 ('tensorflow')",
   "language": "python",
   "name": "python3"
  },
  "language_info": {
   "codemirror_mode": {
    "name": "ipython",
    "version": 3
   },
   "file_extension": ".py",
   "mimetype": "text/x-python",
   "name": "python",
   "nbconvert_exporter": "python",
   "pygments_lexer": "ipython3",
   "version": "3.8.13"
  },
  "vscode": {
   "interpreter": {
    "hash": "87ec22ef3e04fa890f03b7609f31c7b40be0b7c197f285d79185fb8a15a379f8"
   }
  }
 },
 "nbformat": 4,
 "nbformat_minor": 5
}
